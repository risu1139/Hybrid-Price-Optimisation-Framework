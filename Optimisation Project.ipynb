{
 "cells": [
  {
   "cell_type": "markdown",
   "id": "c7520415",
   "metadata": {},
   "source": [
    "# Optimization with Linear Regression, SVM, and COBYLA\n",
    "\n",
    "This notebook demonstrates an optimization workflow involving multiple linear regression, polynomial regression using Support Vector Machines (SVM), and optimization techniques including Simplex and COBYLA.\n",
    "\n",
    "```python\n"
   ]
  },
  {
   "cell_type": "code",
   "execution_count": 14,
   "id": "23a39016",
   "metadata": {},
   "outputs": [],
   "source": [
    "import pandas as pd\n",
    "import statsmodels.api as sm\n",
    "from scipy.optimize import linprog, minimize\n",
    "from sklearn.preprocessing import PolynomialFeatures, StandardScaler\n",
    "from sklearn.svm import SVR\n",
    "from sklearn.pipeline import make_pipeline"
   ]
  },
  {
   "cell_type": "markdown",
   "id": "918251ae",
   "metadata": {},
   "source": [
    "# Step 1: Multiple Linear Regression\n",
    "In this step, we perform multiple linear regression on the provided data to obtain coefficients and construct the regression equation."
   ]
  },
  {
   "cell_type": "code",
   "execution_count": 15,
   "id": "9c247486",
   "metadata": {},
   "outputs": [],
   "source": [
    "def linear_regression_summary(csv_file_path):\n",
    "    data = pd.read_csv(csv_file_path)\n",
    "    y = data['z']\n",
    "    X = data[['x1', 'x2']]\n",
    "    X = sm.add_constant(X)\n",
    "    model = sm.OLS(y, X).fit()\n",
    "    coefficients = model.params\n",
    "    regression_equation = f\"z = {coefficients[0]:.4f} + {coefficients[1]:.4f} * x1 + {coefficients[2]:.4f} * x2\"\n",
    "    return coefficients, regression_equation"
   ]
  },
  {
   "cell_type": "markdown",
   "id": "a9fdf358",
   "metadata": {},
   "source": [
    "# Step 2: Simplex Method for Linear Optimization\n",
    "We use the Simplex method to maximize the linear objective function derived from the coefficients obtained in Step 1. The constraints are included in the optimization process."
   ]
  },
  {
   "cell_type": "code",
   "execution_count": 16,
   "id": "1f82a652",
   "metadata": {},
   "outputs": [],
   "source": [
    "def simplex_optimization(coefficients):\n",
    "    c = [-coefficients[1], -coefficients[2]]  # Minimizing -z is equivalent to maximizing z\n",
    "    A = [[2, 5]]\n",
    "    b = [98]\n",
    "    bounds = [(0, None), (0, None)]\n",
    "    \n",
    "    result = linprog(c, A_ub=A, b_ub=b, bounds=bounds, method='simplex')\n",
    "    \n",
    "    if result.success:\n",
    "        x1, x2 = result.x\n",
    "        z = -result.fun  # Revert the sign to get the original maximized value\n",
    "        return x1, x2, z\n",
    "    else:\n",
    "        raise ValueError(\"Simplex method failed to find a solution\")"
   ]
  },
  {
   "cell_type": "markdown",
   "id": "0f485c20",
   "metadata": {},
   "source": [
    "# Step 3: SVM for Polynomial Regression\n",
    "Here, we fit an SVM model with polynomial features to the data. This step also extracts the polynomial coefficients and intercept needed for further optimization."
   ]
  },
  {
   "cell_type": "code",
   "execution_count": 17,
   "id": "1fabe736",
   "metadata": {},
   "outputs": [],
   "source": [
    "def fit_svm_polynomial(csv_file_path):\n",
    "    data = pd.read_csv(csv_file_path)\n",
    "    y = data['z']\n",
    "    X = data[['x1', 'x2']]\n",
    "\n",
    "    poly = PolynomialFeatures(degree=2, include_bias=False)\n",
    "    X_poly = poly.fit_transform(X)\n",
    "\n",
    "    model = make_pipeline(StandardScaler(), SVR(kernel='linear', C=1, epsilon=0.1))\n",
    "    model.fit(X_poly, y)\n",
    "\n",
    "    lin_reg = make_pipeline(PolynomialFeatures(degree=2, include_bias=True), StandardScaler(), SVR(kernel='linear', C=1, epsilon=0.1))\n",
    "    lin_reg.fit(X, y)\n",
    "    intercept = lin_reg.named_steps['svr'].intercept_\n",
    "    coefficients = lin_reg.named_steps['svr'].coef_\n",
    "    return coefficients, intercept, poly\n"
   ]
  },
  {
   "cell_type": "markdown",
   "id": "4dbd6304",
   "metadata": {},
   "source": [
    "# Step 4: COBYLA Optimization\n",
    "We use the COBYLA method to maximize the polynomial function derived from the SVM model. The bounds and constraints are included in this optimization step."
   ]
  },
  {
   "cell_type": "code",
   "execution_count": 18,
   "id": "3c0051fc",
   "metadata": {},
   "outputs": [],
   "source": [
    "def cobyla_maximization(coefficients, intercept, poly, initial_guess):\n",
    "    def objective_function(x):\n",
    "        x_poly = poly.transform([x])\n",
    "        return -(intercept + sum(c * x_poly[0, i] for i, c in enumerate(coefficients)))\n",
    "\n",
    "    bounds = [(0, None), (0, None)]\n",
    "    constraint_function = lambda x: 98 - 2*x[0] - 5*x[1]\n",
    "    constraints = [{'type': 'ineq', 'fun': constraint_function}]\n",
    "\n",
    "    result = minimize(objective_function, initial_guess, bounds=bounds, constraints=constraints, method='COBYLA')\n",
    "    \n",
    "    if result.success:\n",
    "        maximized_x1, maximized_x2 = result.x\n",
    "        maximized_z = -result.fun\n",
    "        return maximized_x1, maximized_x2, maximized_z\n",
    "    else:\n",
    "        print(\"Optimization failed. Here is the result:\")\n",
    "        print(result)  # Print the full result to understand the failure reason\n",
    "        raise ValueError(\"COBYLA method failed to find a solution\")\n"
   ]
  },
  {
   "cell_type": "markdown",
   "id": "5f687cf4",
   "metadata": {},
   "source": [
    "# Example Usage\n",
    "Finally, we demonstrate how to use these functions with a sample CSV file to perform linear regression, optimization with Simplex and COBYLA, and print the polynomial equation."
   ]
  },
  {
   "cell_type": "code",
   "execution_count": 19,
   "id": "ad37b841",
   "metadata": {},
   "outputs": [
    {
     "name": "stdout",
     "output_type": "stream",
     "text": [
      "Linear Regression Equation:\n",
      "z = -1621.0695 + 963.4735 * x1 + -657.5960 * x2\n",
      "Simplex Optimization Result:\n",
      "x1 = 49.0000, x2 = 0.0000, z = 47210.2017\n",
      "Maximized values using COBYLA:\n",
      "x1 = 49.0000\n",
      "x2 = 0.0000\n",
      "Maximized z = 2925.6275\n"
     ]
    },
    {
     "name": "stderr",
     "output_type": "stream",
     "text": [
      "/var/folders/ww/qjh9zpks52d4vsjxc4bg379h0000gn/T/ipykernel_3212/270654717.py:8: FutureWarning: Series.__getitem__ treating keys as positions is deprecated. In a future version, integer keys will always be treated as labels (consistent with DataFrame behavior). To access a value by position, use `ser.iloc[pos]`\n",
      "  regression_equation = f\"z = {coefficients[0]:.4f} + {coefficients[1]:.4f} * x1 + {coefficients[2]:.4f} * x2\"\n",
      "/var/folders/ww/qjh9zpks52d4vsjxc4bg379h0000gn/T/ipykernel_3212/3928591052.py:2: FutureWarning: Series.__getitem__ treating keys as positions is deprecated. In a future version, integer keys will always be treated as labels (consistent with DataFrame behavior). To access a value by position, use `ser.iloc[pos]`\n",
      "  c = [-coefficients[1], -coefficients[2]]  # Minimizing -z is equivalent to maximizing z\n",
      "/var/folders/ww/qjh9zpks52d4vsjxc4bg379h0000gn/T/ipykernel_3212/3928591052.py:7: DeprecationWarning: `method='simplex'` is deprecated and will be removed in SciPy 1.11.0. Please use one of the HiGHS solvers (e.g. `method='highs'`) in new code.\n",
      "  result = linprog(c, A_ub=A, b_ub=b, bounds=bounds, method='simplex')\n",
      "/Users/rishav/anaconda3/lib/python3.11/site-packages/scipy/optimize/_minimize.py:569: RuntimeWarning: Method COBYLA cannot handle bounds.\n",
      "  warn('Method %s cannot handle bounds.' % method,\n",
      "/Users/rishav/anaconda3/lib/python3.11/site-packages/sklearn/base.py:464: UserWarning: X does not have valid feature names, but PolynomialFeatures was fitted with feature names\n",
      "  warnings.warn(\n",
      "/Users/rishav/anaconda3/lib/python3.11/site-packages/sklearn/base.py:464: UserWarning: X does not have valid feature names, but PolynomialFeatures was fitted with feature names\n",
      "  warnings.warn(\n",
      "/Users/rishav/anaconda3/lib/python3.11/site-packages/sklearn/base.py:464: UserWarning: X does not have valid feature names, but PolynomialFeatures was fitted with feature names\n",
      "  warnings.warn(\n",
      "/Users/rishav/anaconda3/lib/python3.11/site-packages/sklearn/base.py:464: UserWarning: X does not have valid feature names, but PolynomialFeatures was fitted with feature names\n",
      "  warnings.warn(\n",
      "/Users/rishav/anaconda3/lib/python3.11/site-packages/sklearn/base.py:464: UserWarning: X does not have valid feature names, but PolynomialFeatures was fitted with feature names\n",
      "  warnings.warn(\n",
      "/Users/rishav/anaconda3/lib/python3.11/site-packages/sklearn/base.py:464: UserWarning: X does not have valid feature names, but PolynomialFeatures was fitted with feature names\n",
      "  warnings.warn(\n",
      "/Users/rishav/anaconda3/lib/python3.11/site-packages/sklearn/base.py:464: UserWarning: X does not have valid feature names, but PolynomialFeatures was fitted with feature names\n",
      "  warnings.warn(\n",
      "/Users/rishav/anaconda3/lib/python3.11/site-packages/sklearn/base.py:464: UserWarning: X does not have valid feature names, but PolynomialFeatures was fitted with feature names\n",
      "  warnings.warn(\n",
      "/Users/rishav/anaconda3/lib/python3.11/site-packages/sklearn/base.py:464: UserWarning: X does not have valid feature names, but PolynomialFeatures was fitted with feature names\n",
      "  warnings.warn(\n",
      "/Users/rishav/anaconda3/lib/python3.11/site-packages/sklearn/base.py:464: UserWarning: X does not have valid feature names, but PolynomialFeatures was fitted with feature names\n",
      "  warnings.warn(\n",
      "/Users/rishav/anaconda3/lib/python3.11/site-packages/sklearn/base.py:464: UserWarning: X does not have valid feature names, but PolynomialFeatures was fitted with feature names\n",
      "  warnings.warn(\n",
      "/Users/rishav/anaconda3/lib/python3.11/site-packages/sklearn/base.py:464: UserWarning: X does not have valid feature names, but PolynomialFeatures was fitted with feature names\n",
      "  warnings.warn(\n",
      "/Users/rishav/anaconda3/lib/python3.11/site-packages/sklearn/base.py:464: UserWarning: X does not have valid feature names, but PolynomialFeatures was fitted with feature names\n",
      "  warnings.warn(\n"
     ]
    }
   ],
   "source": [
    "csv_file_path = \"equation_data_with_bias.csv\"  # Provide the correct path to your CSV file\n",
    "\n",
    "# Step 1: Linear regression to get coefficients\n",
    "coefficients, equation_string = linear_regression_summary(csv_file_path)\n",
    "print(\"Linear Regression Equation:\")\n",
    "print(equation_string)\n",
    "\n",
    "# Step 2: Simplex optimization\n",
    "x1_simplex, x2_simplex, z_simplex = simplex_optimization(coefficients)\n",
    "print(\"Simplex Optimization Result:\")\n",
    "print(f\"x1 = {x1_simplex:.4f}, x2 = {x2_simplex:.4f}, z = {z_simplex:.4f}\")\n",
    "\n",
    "# Step 3: Fit SVM with polynomial features\n",
    "svm_coefficients, intercept, poly = fit_svm_polynomial(csv_file_path)\n",
    "\n",
    "# Step 4: Maximize the polynomial function using COBYLA\n",
    "try:\n",
    "    maximized_x1_cobyla, maximized_x2_cobyla, maximized_z_cobyla = cobyla_maximization(svm_coefficients, intercept, poly, initial_guess=[x1_simplex, x2_simplex])\n",
    "    print(\"Maximized values using COBYLA:\")\n",
    "    print(f\"x1 = {maximized_x1_cobyla:.4f}\")\n",
    "    print(f\"x2 = {maximized_x2_cobyla:.4f}\")\n",
    "    print(f\"Maximized z = {maximized_z_cobyla:.4f}\")\n",
    "except ValueError as e:\n",
    "    print(f\"Error: {e}\")"
   ]
  },
  {
   "cell_type": "markdown",
   "id": "713b570a",
   "metadata": {},
   "source": [
    "# Appendix 6: Counterexample Demonstrating COBYLA Failure with a Random Initial Guess\n",
    "This section demonstrates a scenario where the COBYLA optimization method fails to converge when starting from an arbitrary initial guess. However, COBYLA successfully converges when using the initial guess derived from the Simplex method solution. You can change the initial guesses which is out of bound and most of them will fail to converge making them more than 20 examples."
   ]
  },
  {
   "cell_type": "code",
   "execution_count": 20,
   "id": "bcb737ca",
   "metadata": {},
   "outputs": [
    {
     "name": "stdout",
     "output_type": "stream",
     "text": [
      "Optimization method used: Maximum number of function evaluations has been exceeded.\n",
      "COBYLA method failed to converge with the initial guess.\n"
     ]
    },
    {
     "name": "stderr",
     "output_type": "stream",
     "text": [
      "/Users/rishav/anaconda3/lib/python3.11/site-packages/scipy/optimize/_minimize.py:569: RuntimeWarning: Method COBYLA cannot handle bounds.\n",
      "  warn('Method %s cannot handle bounds.' % method,\n",
      "/var/folders/ww/qjh9zpks52d4vsjxc4bg379h0000gn/T/ipykernel_3212/3910368584.py:1: FutureWarning: Series.__getitem__ treating keys as positions is deprecated. In a future version, integer keys will always be treated as labels (consistent with DataFrame behavior). To access a value by position, use `ser.iloc[pos]`\n",
      "  objective_function = lambda x: -(coefficients[0] * x[0]**2 + coefficients[1] * x[1]**2 + coefficients[2] * x[0] * x[1])\n"
     ]
    }
   ],
   "source": [
    "objective_function = lambda x: -(coefficients[0] * x[0]**2 + coefficients[1] * x[1]**2 + coefficients[2] * x[0] * x[1])\n",
    "bounds = [(0, None), (0, None)]\n",
    "constraint_function = lambda x: 98 - 2*x[0] - 5*x[1]\n",
    "initial_guess_fail = [-100, -100]\n",
    "result_fail = minimize(objective_function, initial_guess_fail, method='COBYLA', bounds=bounds, constraints=constraints)\n",
    "print(\"Optimization method used:\", result_fail.message)\n",
    "if result_fail.success:\n",
    "    maximized_x1_fail, maximized_x2_fail = result_fail.x\n",
    "    maximized_z_fail = -result_fail.fun  \n",
    "    steps_fail = result_fail.nfev\n",
    "\n",
    "    print(\"Maximized values with an initial guess that may fail:\")\n",
    "    print(f\"x1 = {maximized_x1_fail:.4f}\")\n",
    "    print(f\"x2 = {maximized_x2_fail:.4f}\")\n",
    "    print(f\"Maximized z = {maximized_z_fail:.4f}\")\n",
    "    print(f\"Number of steps taken: {steps_fail}\")\n",
    "else:\n",
    "    print(\"COBYLA method failed to converge with the initial guess.\")"
   ]
  },
  {
   "cell_type": "code",
   "execution_count": null,
   "id": "8b838f21",
   "metadata": {},
   "outputs": [],
   "source": []
  }
 ],
 "metadata": {
  "kernelspec": {
   "display_name": "Python 3 (ipykernel)",
   "language": "python",
   "name": "python3"
  },
  "language_info": {
   "codemirror_mode": {
    "name": "ipython",
    "version": 3
   },
   "file_extension": ".py",
   "mimetype": "text/x-python",
   "name": "python",
   "nbconvert_exporter": "python",
   "pygments_lexer": "ipython3",
   "version": "3.11.4"
  }
 },
 "nbformat": 4,
 "nbformat_minor": 5
}
